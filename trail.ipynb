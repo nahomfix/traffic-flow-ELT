{
 "cells": [
  {
   "cell_type": "code",
   "execution_count": 1,
   "metadata": {},
   "outputs": [],
   "source": [
    "import pandas as pd"
   ]
  },
  {
   "cell_type": "code",
   "execution_count": 2,
   "metadata": {},
   "outputs": [],
   "source": [
    "df = pd.read_csv(\"./data/20181024_d1_0830_0900.csv\", skiprows=1,\n",
    "        header=None,\n",
    "        delimiter=\"\\n\",)"
   ]
  },
  {
   "cell_type": "code",
   "execution_count": 4,
   "metadata": {},
   "outputs": [],
   "source": [
    "series = df[0].str.split(\";\")"
   ]
  },
  {
   "cell_type": "code",
   "execution_count": 14,
   "metadata": {},
   "outputs": [],
   "source": [
    "pd_lines = []\n",
    "\n",
    "for line in series:\n",
    "    old_line = [item.strip() for item in line]\n",
    "    info_index = 4\n",
    "    info = old_line[:info_index]\n",
    "    remaining = old_line[info_index:-1]\n",
    "    chunks = split_into_chunks(remaining, 6)\n",
    "    for chunk in chunks:\n",
    "        record = info + chunk\n",
    "        new_line = \",\".join(record)\n",
    "        pd_lines.append(record)"
   ]
  },
  {
   "cell_type": "code",
   "execution_count": 19,
   "metadata": {},
   "outputs": [],
   "source": [
    "new_df = pd.DataFrame(\n",
    "        pd_lines,\n",
    "        columns=[\n",
    "            \"track_id\",\n",
    "            \"type\",\n",
    "            \"traveled_d\",\n",
    "            \"avg_speed\",\n",
    "            \"lat\",\n",
    "            \"lon\",\n",
    "            \"speed\",\n",
    "            \"lon_acc\",\n",
    "            \"lat_acc\",\n",
    "            \"time\",\n",
    "        ],\n",
    "    )"
   ]
  },
  {
   "cell_type": "code",
   "execution_count": null,
   "metadata": {},
   "outputs": [],
   "source": []
  }
 ],
 "metadata": {
  "interpreter": {
   "hash": "63fd5069d213b44bf678585dea6b12cceca9941eaf7f819626cde1f2670de90d"
  },
  "kernelspec": {
   "display_name": "Python 3.9.6 64-bit",
   "language": "python",
   "name": "python3"
  },
  "language_info": {
   "codemirror_mode": {
    "name": "ipython",
    "version": 3
   },
   "file_extension": ".py",
   "mimetype": "text/x-python",
   "name": "python",
   "nbconvert_exporter": "python",
   "pygments_lexer": "ipython3",
   "version": "3.9.6"
  },
  "orig_nbformat": 4
 },
 "nbformat": 4,
 "nbformat_minor": 2
}
